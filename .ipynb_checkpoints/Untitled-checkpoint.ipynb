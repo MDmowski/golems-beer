{
 "cells": [
  {
   "cell_type": "code",
   "execution_count": 1,
   "metadata": {},
   "outputs": [],
   "source": [
    "# Analiza i modyfikacja danych\n",
    "import pandas as pd\n",
    "import numpy as np\n",
    "import random\n",
    "# Wizualizacja\n",
    "import seaborn as sns\n",
    "import matplotlib.pyplot as plt\n",
    "\n",
    "# machine learning\n",
    "from sklearn.linear_model import LinearRegression\n",
    "from sklearn.tree import DecisionTreeClassifier\n",
    "from sklearn.preprocessing import OneHotEncoder\n",
    "from sklearn.model_selection import train_test_split\n",
    "from sklearn.model_selection import GridSearchCV\n",
    "# Ewaluacja\n",
    "from sklearn.metrics import confusion_matrix, precision_score\n",
    "from sklearn.metrics import recall_score, f1_score, accuracy_score\n",
    "\n",
    "random.seed(71830)"
   ]
  },
  {
   "cell_type": "code",
   "execution_count": 4,
   "metadata": {},
   "outputs": [
    {
     "name": "stdout",
     "output_type": "stream",
     "text": [
      "                                      Name  Style     OG     FG   ABV    IBU  \\\n",
      "0                              Black Betty  Stout  1.069  1.007  8.12   0.00   \n",
      "1                      Leon's Tail Red Ale    Ale  1.064  1.012  6.80   9.36   \n",
      "2  Coya's Bad Dog Chocolate Stout  swedish  Stout  1.061  1.015  6.08  28.31   \n",
      "3                        American Pale Ale    Ale  1.053  1.012  5.44  46.48   \n",
      "4                                 GDB Pils  Lager  1.053  1.017  4.64  42.29   \n",
      "\n",
      "   Color  BoilTime  BoilGravity  PitchRate  Efficiency   UserId  \n",
      "0  30.48        60          NaN        NaN        75.0      NaN  \n",
      "1   9.85        60        1.132       0.50        35.0      NaN  \n",
      "2  35.83        60        1.044       0.35        83.0  42087.0  \n",
      "3   5.77        60        1.033        NaN        70.0      NaN  \n",
      "4   4.22        90        1.039       0.50        77.0  14729.0  \n"
     ]
    }
   ],
   "source": [
    "# wczytujemy dane\n",
    "dataFile = pd.read_csv('beers.csv')\n",
    "dataFile.head()"
   ]
  },
  {
   "cell_type": "code",
   "execution_count": null,
   "metadata": {},
   "outputs": [],
   "source": []
  },
  {
   "cell_type": "code",
   "execution_count": null,
   "metadata": {},
   "outputs": [],
   "source": []
  }
 ],
 "metadata": {
  "kernelspec": {
   "display_name": "golem1",
   "language": "python",
   "name": "golem1"
  },
  "language_info": {
   "codemirror_mode": {
    "name": "ipython",
    "version": 3
   },
   "file_extension": ".py",
   "mimetype": "text/x-python",
   "name": "python",
   "nbconvert_exporter": "python",
   "pygments_lexer": "ipython3",
   "version": "3.7.4"
  }
 },
 "nbformat": 4,
 "nbformat_minor": 2
}
